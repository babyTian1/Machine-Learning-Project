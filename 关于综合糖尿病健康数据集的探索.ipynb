{
 "cells": [
  {
   "cell_type": "markdown",
   "metadata": {
    "id": "F2B8520C6F444EB88D07803A307D7E42",
    "jupyter": {},
    "notebookId": "678a51258c4b5e14d963c362",
    "runtime": {
     "execution_status": null,
     "is_visible": false,
     "status": "default"
    },
    "scrolled": false,
    "slideshow": {
     "slide_type": "slide"
    },
    "tags": []
   },
   "source": [
    "# 介绍"
   ]
  },
  {
   "cell_type": "markdown",
   "metadata": {
    "id": "0A031D776A84426AA96FE4141C48438C",
    "jupyter": {},
    "notebookId": "678a51258c4b5e14d963c362",
    "runtime": {
     "execution_status": null,
     "is_visible": false,
     "status": "default"
    },
    "scrolled": false,
    "slideshow": {
     "slide_type": "slide"
    },
    "tags": []
   },
   "source": [
    "糖尿病作为一种全球性慢性疾病，正对人类健康构成巨大威胁，其发病率不断攀升，给患者的生活质量和医疗系统带来了沉重负担。准确预测糖尿病的发病风险，对于实现早期干预、有效预防以及优化医疗资源配置具有至关重要的意义。本项目所采用的数据集来自Heywhale.com，该数据集源自Kaggle，涵盖了患者的诸多健康指标，如年龄、性别、种族、社会经济地位、教育水平、BMI、吸烟饮酒情况、饮食睡眠质量、家族病史、妊娠糖尿病史、多囊卵巢综合症、既往糖尿病前期、血压、血糖、糖化血红蛋白、血脂水平、药物使用情况、症状表现、生活质量评分、重金属及化学品暴露、水质污染、体检频率、药物依从性、健康素养等，以及最终的糖尿病诊断结果。这些丰富且多维度的数据，为我们深入分析糖尿病的发病影响因素以及构建精准的糖尿病风险预测模型提供了坚实基础，有助于医疗从业者更好地洞察病因和风险因素，从而制定出更具针对性和有效的预防与治疗策略。  \n"
   ]
  },
  {
   "cell_type": "markdown",
   "metadata": {
    "id": "65617F922BA840E3A53FCFE55E064076",
    "jupyter": {},
    "notebookId": "678a51258c4b5e14d963c362",
    "runtime": {
     "execution_status": null,
     "is_visible": false,
     "status": "default"
    },
    "scrolled": false,
    "slideshow": {
     "slide_type": "slide"
    },
    "tags": []
   },
   "source": [
    "# 导入必备的库"
   ]
  },
  {
   "cell_type": "code",
   "execution_count": 73,
   "metadata": {
    "collapsed": false,
    "id": "B15346FFC87A4BD8A6CBDA93CEF8E651",
    "jupyter": {},
    "notebookId": "678a51258c4b5e14d963c362",
    "scrolled": false,
    "slideshow": {
     "slide_type": "slide"
    },
    "tags": [],
    "trusted": true
   },
   "outputs": [],
   "source": [
    "import numpy as np\n",
    "import pandas as pd\n",
    "\n",
    "import matplotlib.pyplot as plt\n",
    "import seaborn as sns\n",
    "\n",
    "from sklearn.feature_selection import RFE\n",
    "from sklearn.linear_model import LogisticRegression\n",
    "\n",
    "from sklearn.ensemble import RandomForestClassifier\n",
    "from sklearn.feature_selection import SelectFromModel\n",
    "\n",
    "from sklearn.model_selection import train_test_split\n",
    "\n",
    "from sklearn.model_selection import GridSearchCV\n",
    "from sklearn.linear_model import LogisticRegression\n",
    "from sklearn.preprocessing import StandardScaler\n",
    "\n",
    "import pandas as pd\n",
    "from sklearn.model_selection import GridSearchCV\n",
    "from sklearn.linear_model import LogisticRegression\n",
    "from sklearn.preprocessing import StandardScaler\n",
    "from sklearn.metrics import confusion_matrix, roc_curve, auc\n",
    "import matplotlib.pyplot as plt\n",
    "import warnings\n",
    "\n",
    "from sklearn.metrics import confusion_matrix, roc_curve, auc, classification_report\n",
    "\n",
    "# 忽略FutureWarning\n",
    "warnings.filterwarnings(\"ignore\", category=FutureWarning)\n",
    "\n",
    "import warnings\n",
    "\n",
    "%matplotlib inline"
   ]
  },
  {
   "cell_type": "code",
   "execution_count": 66,
   "metadata": {
    "collapsed": false,
    "id": "BC64E004D60B4AA498DFDE1D1771D065",
    "jupyter": {},
    "notebookId": "678a51258c4b5e14d963c362",
    "scrolled": false,
    "slideshow": {
     "slide_type": "slide"
    },
    "tags": [],
    "trusted": true
   },
   "outputs": [],
   "source": [
    "# 忽略FutureWarning\n",
    "warnings.filterwarnings(\"ignore\", category=FutureWarning)"
   ]
  },
  {
   "cell_type": "markdown",
   "metadata": {
    "id": "5494F528556A42D0B02297E178117539",
    "jupyter": {},
    "notebookId": "678a51258c4b5e14d963c362",
    "runtime": {
     "execution_status": null,
     "is_visible": false,
     "status": "default"
    },
    "scrolled": false,
    "slideshow": {
     "slide_type": "slide"
    },
    "tags": []
   },
   "source": [
    "# 数据探索"
   ]
  },
  {
   "cell_type": "markdown",
   "metadata": {
    "id": "210167C7B9ED446F8A46D52E0A4068E8",
    "jupyter": {},
    "notebookId": "678a51258c4b5e14d963c362",
    "runtime": {
     "execution_status": null,
     "is_visible": false,
     "status": "default"
    },
    "scrolled": false,
    "slideshow": {
     "slide_type": "slide"
    },
    "tags": []
   },
   "source": [
    "## 数据分布情况分析"
   ]
  },
  {
   "cell_type": "markdown",
   "metadata": {
    "id": "9A6AE747F5D2492EA33AA25F7EA2B079",
    "jupyter": {},
    "notebookId": "678a51258c4b5e14d963c362",
    "runtime": {
     "execution_status": null,
     "is_visible": false,
     "status": "default"
    },
    "scrolled": false,
    "slideshow": {
     "slide_type": "slide"
    },
    "tags": []
   },
   "source": [
    "导入数据集："
   ]
  },
  {
   "cell_type": "code",
   "execution_count": 23,
   "metadata": {
    "collapsed": false,
    "id": "AC45701F63ED48F4977FA0D667658F2D",
    "jupyter": {},
    "notebookId": "678a51258c4b5e14d963c362",
    "scrolled": false,
    "slideshow": {
     "slide_type": "slide"
    },
    "tags": [],
    "trusted": true
   },
   "outputs": [],
   "source": [
    "file_path = \"/home/mw/input/data3501/diabetes_data.csv\"\n",
    "\n",
    "df = pd.read_csv(file_path)"
   ]
  },
  {
   "cell_type": "markdown",
   "metadata": {
    "id": "F5F7DE3A06944506B78F152FFFFC1F78",
    "jupyter": {},
    "notebookId": "678a51258c4b5e14d963c362",
    "runtime": {
     "execution_status": null,
     "is_visible": false,
     "status": "default"
    },
    "scrolled": false,
    "slideshow": {
     "slide_type": "slide"
    },
    "tags": []
   },
   "source": [
    "查看数据集信息："
   ]
  },
  {
   "cell_type": "code",
   "execution_count": 24,
   "metadata": {
    "collapsed": false,
    "id": "8DBAAD10B4154F77A7113C895CBFD826",
    "jupyter": {},
    "notebookId": "678a51258c4b5e14d963c362",
    "scrolled": false,
    "slideshow": {
     "slide_type": "slide"
    },
    "tags": [],
    "trusted": true
   },
   "outputs": [
    {
     "data": {
      "text/plain": [
       "(1879, 46)"
      ]
     },
     "execution_count": null,
     "metadata": {},
     "output_type": "execute_result"
    }
   ],
   "source": [
    "df.shape"
   ]
  },
  {
   "cell_type": "markdown",
   "metadata": {
    "id": "B8740F873C6441BCBE9FC2292C6DBFD8",
    "jupyter": {},
    "notebookId": "678a51258c4b5e14d963c362",
    "runtime": {
     "execution_status": null,
     "is_visible": false,
     "status": "default"
    },
    "scrolled": false,
    "slideshow": {
     "slide_type": "slide"
    },
    "tags": []
   },
   "source": [
    "数据集一共有46个特征，1879个样本。"
   ]
  },
  {
   "cell_type": "code",
   "execution_count": 25,
   "metadata": {
    "collapsed": false,
    "id": "D6343787CED64A1180624CA85FD8884E",
    "jupyter": {},
    "notebookId": "678a51258c4b5e14d963c362",
    "scrolled": false,
    "slideshow": {
     "slide_type": "slide"
    },
    "tags": [],
    "trusted": true
   },
   "outputs": [
    {
     "data": {
      "text/html": [
       "<div>\n",
       "<style scoped>\n",
       "    .dataframe tbody tr th:only-of-type {\n",
       "        vertical-align: middle;\n",
       "    }\n",
       "\n",
       "    .dataframe tbody tr th {\n",
       "        vertical-align: top;\n",
       "    }\n",
       "\n",
       "    .dataframe thead th {\n",
       "        text-align: right;\n",
       "    }\n",
       "</style>\n",
       "<table border=\"1\" class=\"dataframe\">\n",
       "  <thead>\n",
       "    <tr style=\"text-align: right;\">\n",
       "      <th></th>\n",
       "      <th>PatientID</th>\n",
       "      <th>Age</th>\n",
       "      <th>Gender</th>\n",
       "      <th>Ethnicity</th>\n",
       "      <th>SocioeconomicStatus</th>\n",
       "      <th>EducationLevel</th>\n",
       "      <th>BMI</th>\n",
       "      <th>Smoking</th>\n",
       "      <th>AlcoholConsumption</th>\n",
       "      <th>PhysicalActivity</th>\n",
       "      <th>...</th>\n",
       "      <th>TinglingHandsFeet</th>\n",
       "      <th>QualityOfLifeScore</th>\n",
       "      <th>HeavyMetalsExposure</th>\n",
       "      <th>OccupationalExposureChemicals</th>\n",
       "      <th>WaterQuality</th>\n",
       "      <th>MedicalCheckupsFrequency</th>\n",
       "      <th>MedicationAdherence</th>\n",
       "      <th>HealthLiteracy</th>\n",
       "      <th>Diagnosis</th>\n",
       "      <th>DoctorInCharge</th>\n",
       "    </tr>\n",
       "  </thead>\n",
       "  <tbody>\n",
       "    <tr>\n",
       "      <th>0</th>\n",
       "      <td>6000</td>\n",
       "      <td>44</td>\n",
       "      <td>0</td>\n",
       "      <td>1</td>\n",
       "      <td>2</td>\n",
       "      <td>1</td>\n",
       "      <td>32.985284</td>\n",
       "      <td>1</td>\n",
       "      <td>4.499365</td>\n",
       "      <td>2.443385</td>\n",
       "      <td>...</td>\n",
       "      <td>1</td>\n",
       "      <td>73.765109</td>\n",
       "      <td>0</td>\n",
       "      <td>0</td>\n",
       "      <td>0</td>\n",
       "      <td>1.782724</td>\n",
       "      <td>4.486980</td>\n",
       "      <td>7.211349</td>\n",
       "      <td>1</td>\n",
       "      <td>Confidential</td>\n",
       "    </tr>\n",
       "    <tr>\n",
       "      <th>1</th>\n",
       "      <td>6001</td>\n",
       "      <td>51</td>\n",
       "      <td>1</td>\n",
       "      <td>0</td>\n",
       "      <td>1</td>\n",
       "      <td>2</td>\n",
       "      <td>39.916764</td>\n",
       "      <td>0</td>\n",
       "      <td>1.578919</td>\n",
       "      <td>8.301264</td>\n",
       "      <td>...</td>\n",
       "      <td>0</td>\n",
       "      <td>91.445753</td>\n",
       "      <td>0</td>\n",
       "      <td>0</td>\n",
       "      <td>1</td>\n",
       "      <td>3.381070</td>\n",
       "      <td>5.961705</td>\n",
       "      <td>5.024612</td>\n",
       "      <td>1</td>\n",
       "      <td>Confidential</td>\n",
       "    </tr>\n",
       "    <tr>\n",
       "      <th>2</th>\n",
       "      <td>6002</td>\n",
       "      <td>89</td>\n",
       "      <td>1</td>\n",
       "      <td>0</td>\n",
       "      <td>1</td>\n",
       "      <td>3</td>\n",
       "      <td>19.782251</td>\n",
       "      <td>0</td>\n",
       "      <td>1.177301</td>\n",
       "      <td>6.103395</td>\n",
       "      <td>...</td>\n",
       "      <td>0</td>\n",
       "      <td>54.485744</td>\n",
       "      <td>0</td>\n",
       "      <td>0</td>\n",
       "      <td>0</td>\n",
       "      <td>2.701019</td>\n",
       "      <td>8.950821</td>\n",
       "      <td>7.034944</td>\n",
       "      <td>0</td>\n",
       "      <td>Confidential</td>\n",
       "    </tr>\n",
       "    <tr>\n",
       "      <th>3</th>\n",
       "      <td>6003</td>\n",
       "      <td>21</td>\n",
       "      <td>1</td>\n",
       "      <td>1</td>\n",
       "      <td>1</td>\n",
       "      <td>2</td>\n",
       "      <td>32.376881</td>\n",
       "      <td>1</td>\n",
       "      <td>1.714621</td>\n",
       "      <td>8.645465</td>\n",
       "      <td>...</td>\n",
       "      <td>0</td>\n",
       "      <td>77.866758</td>\n",
       "      <td>0</td>\n",
       "      <td>0</td>\n",
       "      <td>1</td>\n",
       "      <td>1.409056</td>\n",
       "      <td>3.124769</td>\n",
       "      <td>4.717774</td>\n",
       "      <td>0</td>\n",
       "      <td>Confidential</td>\n",
       "    </tr>\n",
       "    <tr>\n",
       "      <th>4</th>\n",
       "      <td>6004</td>\n",
       "      <td>27</td>\n",
       "      <td>1</td>\n",
       "      <td>0</td>\n",
       "      <td>1</td>\n",
       "      <td>3</td>\n",
       "      <td>16.808600</td>\n",
       "      <td>0</td>\n",
       "      <td>15.462549</td>\n",
       "      <td>4.629383</td>\n",
       "      <td>...</td>\n",
       "      <td>0</td>\n",
       "      <td>37.731808</td>\n",
       "      <td>0</td>\n",
       "      <td>0</td>\n",
       "      <td>0</td>\n",
       "      <td>1.218452</td>\n",
       "      <td>6.977741</td>\n",
       "      <td>7.887940</td>\n",
       "      <td>0</td>\n",
       "      <td>Confidential</td>\n",
       "    </tr>\n",
       "  </tbody>\n",
       "</table>\n",
       "<p>5 rows × 46 columns</p>\n",
       "</div>"
      ],
      "text/plain": [
       "   PatientID  Age  Gender  Ethnicity  SocioeconomicStatus  EducationLevel  \\\n",
       "0       6000   44       0          1                    2               1   \n",
       "1       6001   51       1          0                    1               2   \n",
       "2       6002   89       1          0                    1               3   \n",
       "3       6003   21       1          1                    1               2   \n",
       "4       6004   27       1          0                    1               3   \n",
       "\n",
       "         BMI  Smoking  AlcoholConsumption  PhysicalActivity  ...  \\\n",
       "0  32.985284        1            4.499365          2.443385  ...   \n",
       "1  39.916764        0            1.578919          8.301264  ...   \n",
       "2  19.782251        0            1.177301          6.103395  ...   \n",
       "3  32.376881        1            1.714621          8.645465  ...   \n",
       "4  16.808600        0           15.462549          4.629383  ...   \n",
       "\n",
       "   TinglingHandsFeet  QualityOfLifeScore  HeavyMetalsExposure  \\\n",
       "0                  1           73.765109                    0   \n",
       "1                  0           91.445753                    0   \n",
       "2                  0           54.485744                    0   \n",
       "3                  0           77.866758                    0   \n",
       "4                  0           37.731808                    0   \n",
       "\n",
       "   OccupationalExposureChemicals  WaterQuality  MedicalCheckupsFrequency  \\\n",
       "0                              0             0                  1.782724   \n",
       "1                              0             1                  3.381070   \n",
       "2                              0             0                  2.701019   \n",
       "3                              0             1                  1.409056   \n",
       "4                              0             0                  1.218452   \n",
       "\n",
       "   MedicationAdherence  HealthLiteracy  Diagnosis  DoctorInCharge  \n",
       "0             4.486980        7.211349          1    Confidential  \n",
       "1             5.961705        5.024612          1    Confidential  \n",
       "2             8.950821        7.034944          0    Confidential  \n",
       "3             3.124769        4.717774          0    Confidential  \n",
       "4             6.977741        7.887940          0    Confidential  \n",
       "\n",
       "[5 rows x 46 columns]"
      ]
     },
     "execution_count": null,
     "metadata": {},
     "output_type": "execute_result"
    }
   ],
   "source": [
    "df.head()"
   ]
  },
  {
   "cell_type": "markdown",
   "metadata": {
    "id": "B5C291428A154DE6897E3F45237746F0",
    "jupyter": {},
    "notebookId": "678a51258c4b5e14d963c362",
    "runtime": {
     "execution_status": null,
     "is_visible": false,
     "status": "default"
    },
    "scrolled": false,
    "slideshow": {
     "slide_type": "slide"
    },
    "tags": []
   },
   "source": [
    "查看一下缺失值的分布情况："
   ]
  },
  {
   "cell_type": "code",
   "execution_count": 26,
   "metadata": {
    "collapsed": false,
    "id": "E0F6E790FC8B47BCA590048885F71088",
    "jupyter": {},
    "notebookId": "678a51258c4b5e14d963c362",
    "scrolled": false,
    "slideshow": {
     "slide_type": "slide"
    },
    "tags": [],
    "trusted": true
   },
   "outputs": [
    {
     "data": {
      "text/plain": [
       "0"
      ]
     },
     "execution_count": null,
     "metadata": {},
     "output_type": "execute_result"
    }
   ],
   "source": [
    "df.isnull().sum().sum()"
   ]
  },
  {
   "cell_type": "markdown",
   "metadata": {
    "id": "77706B1523904379BEC314748AED180A",
    "jupyter": {},
    "notebookId": "678a51258c4b5e14d963c362",
    "runtime": {
     "execution_status": null,
     "is_visible": false,
     "status": "default"
    },
    "scrolled": false,
    "slideshow": {
     "slide_type": "slide"
    },
    "tags": []
   },
   "source": [
    "可以发现数据集中并不存在着缺失值。"
   ]
  },
  {
   "cell_type": "markdown",
   "metadata": {
    "id": "F2297E6499614F3A8B7F25FC72CD72CC",
    "jupyter": {},
    "notebookId": "678a51258c4b5e14d963c362",
    "runtime": {
     "execution_status": null,
     "is_visible": false,
     "status": "default"
    },
    "scrolled": false,
    "slideshow": {
     "slide_type": "slide"
    },
    "tags": []
   },
   "source": [
    "查看一下数据集的数据类型："
   ]
  },
  {
   "cell_type": "code",
   "execution_count": 27,
   "metadata": {
    "collapsed": false,
    "id": "4FD69AA1E3A94B489C062DA4CE506C29",
    "jupyter": {},
    "notebookId": "678a51258c4b5e14d963c362",
    "scrolled": false,
    "slideshow": {
     "slide_type": "slide"
    },
    "tags": [],
    "trusted": true
   },
   "outputs": [
    {
     "data": {
      "text/plain": [
       "PatientID                          int64\n",
       "Age                                int64\n",
       "Gender                             int64\n",
       "Ethnicity                          int64\n",
       "SocioeconomicStatus                int64\n",
       "EducationLevel                     int64\n",
       "BMI                              float64\n",
       "Smoking                            int64\n",
       "AlcoholConsumption               float64\n",
       "PhysicalActivity                 float64\n",
       "DietQuality                      float64\n",
       "SleepQuality                     float64\n",
       "FamilyHistoryDiabetes              int64\n",
       "GestationalDiabetes                int64\n",
       "PolycysticOvarySyndrome            int64\n",
       "PreviousPreDiabetes                int64\n",
       "Hypertension                       int64\n",
       "SystolicBP                         int64\n",
       "DiastolicBP                        int64\n",
       "FastingBloodSugar                float64\n",
       "HbA1c                            float64\n",
       "SerumCreatinine                  float64\n",
       "BUNLevels                        float64\n",
       "CholesterolTotal                 float64\n",
       "CholesterolLDL                   float64\n",
       "CholesterolHDL                   float64\n",
       "CholesterolTriglycerides         float64\n",
       "AntihypertensiveMedications        int64\n",
       "Statins                            int64\n",
       "AntidiabeticMedications            int64\n",
       "FrequentUrination                  int64\n",
       "ExcessiveThirst                    int64\n",
       "UnexplainedWeightLoss              int64\n",
       "FatigueLevels                    float64\n",
       "BlurredVision                      int64\n",
       "SlowHealingSores                   int64\n",
       "TinglingHandsFeet                  int64\n",
       "QualityOfLifeScore               float64\n",
       "HeavyMetalsExposure                int64\n",
       "OccupationalExposureChemicals      int64\n",
       "WaterQuality                       int64\n",
       "MedicalCheckupsFrequency         float64\n",
       "MedicationAdherence              float64\n",
       "HealthLiteracy                   float64\n",
       "Diagnosis                          int64\n",
       "DoctorInCharge                    object\n",
       "dtype: object"
      ]
     },
     "execution_count": null,
     "metadata": {},
     "output_type": "execute_result"
    }
   ],
   "source": [
    "df.dtypes"
   ]
  },
  {
   "cell_type": "code",
   "execution_count": 28,
   "metadata": {
    "collapsed": false,
    "id": "0670B026EFCC45DE809731B35979A00A",
    "jupyter": {},
    "notebookId": "678a51258c4b5e14d963c362",
    "scrolled": false,
    "slideshow": {
     "slide_type": "slide"
    },
    "tags": [],
    "trusted": true
   },
   "outputs": [],
   "source": [
    "df = df.drop(\"DoctorInCharge\", axis = 1)"
   ]
  },
  {
   "cell_type": "code",
   "execution_count": 33,
   "metadata": {
    "collapsed": false,
    "id": "A513B979AB85420EA4DAEAE29E910DD6",
    "jupyter": {},
    "notebookId": "678a51258c4b5e14d963c362",
    "scrolled": false,
    "slideshow": {
     "slide_type": "slide"
    },
    "tags": [],
    "trusted": true
   },
   "outputs": [],
   "source": [
    "df = df.drop(\"PatientID\", axis = 1)"
   ]
  },
  {
   "cell_type": "markdown",
   "metadata": {
    "id": "333FB64315724F32942019EEAEDC4BB0",
    "jupyter": {},
    "notebookId": "678a51258c4b5e14d963c362",
    "runtime": {
     "execution_status": null,
     "is_visible": false,
     "status": "default"
    },
    "scrolled": false,
    "slideshow": {
     "slide_type": "slide"
    },
    "tags": []
   },
   "source": [
    "接下来查看一下统计描述结果："
   ]
  },
  {
   "cell_type": "code",
   "execution_count": 34,
   "metadata": {
    "collapsed": false,
    "id": "BC33F562CCF148B99F647E799EE6177F",
    "jupyter": {},
    "notebookId": "678a51258c4b5e14d963c362",
    "scrolled": false,
    "slideshow": {
     "slide_type": "slide"
    },
    "tags": [],
    "trusted": true
   },
   "outputs": [
    {
     "data": {
      "text/html": [
       "<div>\n",
       "<style scoped>\n",
       "    .dataframe tbody tr th:only-of-type {\n",
       "        vertical-align: middle;\n",
       "    }\n",
       "\n",
       "    .dataframe tbody tr th {\n",
       "        vertical-align: top;\n",
       "    }\n",
       "\n",
       "    .dataframe thead th {\n",
       "        text-align: right;\n",
       "    }\n",
       "</style>\n",
       "<table border=\"1\" class=\"dataframe\">\n",
       "  <thead>\n",
       "    <tr style=\"text-align: right;\">\n",
       "      <th></th>\n",
       "      <th>Age</th>\n",
       "      <th>Gender</th>\n",
       "      <th>Ethnicity</th>\n",
       "      <th>SocioeconomicStatus</th>\n",
       "      <th>EducationLevel</th>\n",
       "      <th>BMI</th>\n",
       "      <th>Smoking</th>\n",
       "      <th>AlcoholConsumption</th>\n",
       "      <th>PhysicalActivity</th>\n",
       "      <th>DietQuality</th>\n",
       "      <th>...</th>\n",
       "      <th>SlowHealingSores</th>\n",
       "      <th>TinglingHandsFeet</th>\n",
       "      <th>QualityOfLifeScore</th>\n",
       "      <th>HeavyMetalsExposure</th>\n",
       "      <th>OccupationalExposureChemicals</th>\n",
       "      <th>WaterQuality</th>\n",
       "      <th>MedicalCheckupsFrequency</th>\n",
       "      <th>MedicationAdherence</th>\n",
       "      <th>HealthLiteracy</th>\n",
       "      <th>Diagnosis</th>\n",
       "    </tr>\n",
       "  </thead>\n",
       "  <tbody>\n",
       "    <tr>\n",
       "      <th>count</th>\n",
       "      <td>1879.000000</td>\n",
       "      <td>1879.000000</td>\n",
       "      <td>1879.000000</td>\n",
       "      <td>1879.000000</td>\n",
       "      <td>1879.000000</td>\n",
       "      <td>1879.000000</td>\n",
       "      <td>1879.000000</td>\n",
       "      <td>1879.000000</td>\n",
       "      <td>1879.000000</td>\n",
       "      <td>1879.000000</td>\n",
       "      <td>...</td>\n",
       "      <td>1879.000000</td>\n",
       "      <td>1879.000000</td>\n",
       "      <td>1879.000000</td>\n",
       "      <td>1879.000000</td>\n",
       "      <td>1879.000000</td>\n",
       "      <td>1879.000000</td>\n",
       "      <td>1879.000000</td>\n",
       "      <td>1879.000000</td>\n",
       "      <td>1879.000000</td>\n",
       "      <td>1879.000000</td>\n",
       "    </tr>\n",
       "    <tr>\n",
       "      <th>mean</th>\n",
       "      <td>55.043108</td>\n",
       "      <td>0.487493</td>\n",
       "      <td>0.755721</td>\n",
       "      <td>0.992017</td>\n",
       "      <td>1.699308</td>\n",
       "      <td>27.687601</td>\n",
       "      <td>0.281533</td>\n",
       "      <td>10.096587</td>\n",
       "      <td>5.200790</td>\n",
       "      <td>4.895801</td>\n",
       "      <td>...</td>\n",
       "      <td>0.102714</td>\n",
       "      <td>0.111229</td>\n",
       "      <td>48.508643</td>\n",
       "      <td>0.052155</td>\n",
       "      <td>0.103246</td>\n",
       "      <td>0.200639</td>\n",
       "      <td>1.997101</td>\n",
       "      <td>4.957539</td>\n",
       "      <td>5.011736</td>\n",
       "      <td>0.400213</td>\n",
       "    </tr>\n",
       "    <tr>\n",
       "      <th>std</th>\n",
       "      <td>20.515839</td>\n",
       "      <td>0.499977</td>\n",
       "      <td>1.047558</td>\n",
       "      <td>0.764940</td>\n",
       "      <td>0.885665</td>\n",
       "      <td>7.190975</td>\n",
       "      <td>0.449866</td>\n",
       "      <td>5.914216</td>\n",
       "      <td>2.857012</td>\n",
       "      <td>2.867144</td>\n",
       "      <td>...</td>\n",
       "      <td>0.303666</td>\n",
       "      <td>0.314500</td>\n",
       "      <td>28.758488</td>\n",
       "      <td>0.222400</td>\n",
       "      <td>0.304361</td>\n",
       "      <td>0.400585</td>\n",
       "      <td>1.122632</td>\n",
       "      <td>2.910934</td>\n",
       "      <td>2.920908</td>\n",
       "      <td>0.490072</td>\n",
       "    </tr>\n",
       "    <tr>\n",
       "      <th>min</th>\n",
       "      <td>20.000000</td>\n",
       "      <td>0.000000</td>\n",
       "      <td>0.000000</td>\n",
       "      <td>0.000000</td>\n",
       "      <td>0.000000</td>\n",
       "      <td>15.025898</td>\n",
       "      <td>0.000000</td>\n",
       "      <td>0.000928</td>\n",
       "      <td>0.004089</td>\n",
       "      <td>0.000885</td>\n",
       "      <td>...</td>\n",
       "      <td>0.000000</td>\n",
       "      <td>0.000000</td>\n",
       "      <td>0.002390</td>\n",
       "      <td>0.000000</td>\n",
       "      <td>0.000000</td>\n",
       "      <td>0.000000</td>\n",
       "      <td>0.004013</td>\n",
       "      <td>0.005384</td>\n",
       "      <td>0.000362</td>\n",
       "      <td>0.000000</td>\n",
       "    </tr>\n",
       "    <tr>\n",
       "      <th>25%</th>\n",
       "      <td>38.000000</td>\n",
       "      <td>0.000000</td>\n",
       "      <td>0.000000</td>\n",
       "      <td>0.000000</td>\n",
       "      <td>1.000000</td>\n",
       "      <td>21.469981</td>\n",
       "      <td>0.000000</td>\n",
       "      <td>4.789725</td>\n",
       "      <td>2.751022</td>\n",
       "      <td>2.476802</td>\n",
       "      <td>...</td>\n",
       "      <td>0.000000</td>\n",
       "      <td>0.000000</td>\n",
       "      <td>23.974098</td>\n",
       "      <td>0.000000</td>\n",
       "      <td>0.000000</td>\n",
       "      <td>0.000000</td>\n",
       "      <td>1.057801</td>\n",
       "      <td>2.420024</td>\n",
       "      <td>2.410113</td>\n",
       "      <td>0.000000</td>\n",
       "    </tr>\n",
       "    <tr>\n",
       "      <th>50%</th>\n",
       "      <td>55.000000</td>\n",
       "      <td>0.000000</td>\n",
       "      <td>0.000000</td>\n",
       "      <td>1.000000</td>\n",
       "      <td>2.000000</td>\n",
       "      <td>27.722988</td>\n",
       "      <td>0.000000</td>\n",
       "      <td>10.173865</td>\n",
       "      <td>5.249002</td>\n",
       "      <td>4.888566</td>\n",
       "      <td>...</td>\n",
       "      <td>0.000000</td>\n",
       "      <td>0.000000</td>\n",
       "      <td>47.519693</td>\n",
       "      <td>0.000000</td>\n",
       "      <td>0.000000</td>\n",
       "      <td>0.000000</td>\n",
       "      <td>1.987170</td>\n",
       "      <td>4.843886</td>\n",
       "      <td>5.035208</td>\n",
       "      <td>0.000000</td>\n",
       "    </tr>\n",
       "    <tr>\n",
       "      <th>75%</th>\n",
       "      <td>73.000000</td>\n",
       "      <td>1.000000</td>\n",
       "      <td>1.000000</td>\n",
       "      <td>2.000000</td>\n",
       "      <td>2.000000</td>\n",
       "      <td>33.856460</td>\n",
       "      <td>1.000000</td>\n",
       "      <td>15.285359</td>\n",
       "      <td>7.671402</td>\n",
       "      <td>7.356058</td>\n",
       "      <td>...</td>\n",
       "      <td>0.000000</td>\n",
       "      <td>0.000000</td>\n",
       "      <td>72.883179</td>\n",
       "      <td>0.000000</td>\n",
       "      <td>0.000000</td>\n",
       "      <td>0.000000</td>\n",
       "      <td>2.946019</td>\n",
       "      <td>7.513933</td>\n",
       "      <td>7.586865</td>\n",
       "      <td>1.000000</td>\n",
       "    </tr>\n",
       "    <tr>\n",
       "      <th>max</th>\n",
       "      <td>90.000000</td>\n",
       "      <td>1.000000</td>\n",
       "      <td>3.000000</td>\n",
       "      <td>2.000000</td>\n",
       "      <td>3.000000</td>\n",
       "      <td>39.998811</td>\n",
       "      <td>1.000000</td>\n",
       "      <td>19.996231</td>\n",
       "      <td>9.993893</td>\n",
       "      <td>9.998677</td>\n",
       "      <td>...</td>\n",
       "      <td>1.000000</td>\n",
       "      <td>1.000000</td>\n",
       "      <td>99.788530</td>\n",
       "      <td>1.000000</td>\n",
       "      <td>1.000000</td>\n",
       "      <td>1.000000</td>\n",
       "      <td>3.999715</td>\n",
       "      <td>9.997165</td>\n",
       "      <td>9.993029</td>\n",
       "      <td>1.000000</td>\n",
       "    </tr>\n",
       "  </tbody>\n",
       "</table>\n",
       "<p>8 rows × 44 columns</p>\n",
       "</div>"
      ],
      "text/plain": [
       "               Age       Gender    Ethnicity  SocioeconomicStatus  \\\n",
       "count  1879.000000  1879.000000  1879.000000          1879.000000   \n",
       "mean     55.043108     0.487493     0.755721             0.992017   \n",
       "std      20.515839     0.499977     1.047558             0.764940   \n",
       "min      20.000000     0.000000     0.000000             0.000000   \n",
       "25%      38.000000     0.000000     0.000000             0.000000   \n",
       "50%      55.000000     0.000000     0.000000             1.000000   \n",
       "75%      73.000000     1.000000     1.000000             2.000000   \n",
       "max      90.000000     1.000000     3.000000             2.000000   \n",
       "\n",
       "       EducationLevel          BMI      Smoking  AlcoholConsumption  \\\n",
       "count     1879.000000  1879.000000  1879.000000         1879.000000   \n",
       "mean         1.699308    27.687601     0.281533           10.096587   \n",
       "std          0.885665     7.190975     0.449866            5.914216   \n",
       "min          0.000000    15.025898     0.000000            0.000928   \n",
       "25%          1.000000    21.469981     0.000000            4.789725   \n",
       "50%          2.000000    27.722988     0.000000           10.173865   \n",
       "75%          2.000000    33.856460     1.000000           15.285359   \n",
       "max          3.000000    39.998811     1.000000           19.996231   \n",
       "\n",
       "       PhysicalActivity  DietQuality  ...  SlowHealingSores  \\\n",
       "count       1879.000000  1879.000000  ...       1879.000000   \n",
       "mean           5.200790     4.895801  ...          0.102714   \n",
       "std            2.857012     2.867144  ...          0.303666   \n",
       "min            0.004089     0.000885  ...          0.000000   \n",
       "25%            2.751022     2.476802  ...          0.000000   \n",
       "50%            5.249002     4.888566  ...          0.000000   \n",
       "75%            7.671402     7.356058  ...          0.000000   \n",
       "max            9.993893     9.998677  ...          1.000000   \n",
       "\n",
       "       TinglingHandsFeet  QualityOfLifeScore  HeavyMetalsExposure  \\\n",
       "count        1879.000000         1879.000000          1879.000000   \n",
       "mean            0.111229           48.508643             0.052155   \n",
       "std             0.314500           28.758488             0.222400   \n",
       "min             0.000000            0.002390             0.000000   \n",
       "25%             0.000000           23.974098             0.000000   \n",
       "50%             0.000000           47.519693             0.000000   \n",
       "75%             0.000000           72.883179             0.000000   \n",
       "max             1.000000           99.788530             1.000000   \n",
       "\n",
       "       OccupationalExposureChemicals  WaterQuality  MedicalCheckupsFrequency  \\\n",
       "count                    1879.000000   1879.000000               1879.000000   \n",
       "mean                        0.103246      0.200639                  1.997101   \n",
       "std                         0.304361      0.400585                  1.122632   \n",
       "min                         0.000000      0.000000                  0.004013   \n",
       "25%                         0.000000      0.000000                  1.057801   \n",
       "50%                         0.000000      0.000000                  1.987170   \n",
       "75%                         0.000000      0.000000                  2.946019   \n",
       "max                         1.000000      1.000000                  3.999715   \n",
       "\n",
       "       MedicationAdherence  HealthLiteracy    Diagnosis  \n",
       "count          1879.000000     1879.000000  1879.000000  \n",
       "mean              4.957539        5.011736     0.400213  \n",
       "std               2.910934        2.920908     0.490072  \n",
       "min               0.005384        0.000362     0.000000  \n",
       "25%               2.420024        2.410113     0.000000  \n",
       "50%               4.843886        5.035208     0.000000  \n",
       "75%               7.513933        7.586865     1.000000  \n",
       "max               9.997165        9.993029     1.000000  \n",
       "\n",
       "[8 rows x 44 columns]"
      ]
     },
     "execution_count": null,
     "metadata": {},
     "output_type": "execute_result"
    }
   ],
   "source": [
    "df.describe()"
   ]
  },
  {
   "cell_type": "markdown",
   "metadata": {
    "id": "14425F08901844BEBF2EC0646C5E01D7",
    "jupyter": {},
    "notebookId": "678a51258c4b5e14d963c362",
    "runtime": {
     "execution_status": null,
     "is_visible": false,
     "status": "default"
    },
    "scrolled": false,
    "slideshow": {
     "slide_type": "slide"
    },
    "tags": []
   },
   "source": [
    "可视化：  \n",
    "\n",
    "- 分类特征：查看不同类别的数量情况/目标变量在不同类别中的分布情况。  \n",
    "- 数值类型：使用直方图，小提琴图等来进行可视化"
   ]
  },
  {
   "cell_type": "markdown",
   "metadata": {
    "id": "16509613B16D4ABB87A6C115AACD94DC",
    "jupyter": {},
    "notebookId": "678a51258c4b5e14d963c362",
    "runtime": {
     "execution_status": null,
     "is_visible": false,
     "status": "default"
    },
    "scrolled": false,
    "slideshow": {
     "slide_type": "slide"
    },
    "tags": []
   },
   "source": [
    "## 特征选择"
   ]
  },
  {
   "cell_type": "markdown",
   "metadata": {
    "id": "DC4FA2CC2ED944DA9B431740130D0989",
    "jupyter": {},
    "notebookId": "678a51258c4b5e14d963c362",
    "runtime": {
     "execution_status": null,
     "is_visible": false,
     "status": "default"
    },
    "scrolled": false,
    "slideshow": {
     "slide_type": "slide"
    },
    "tags": []
   },
   "source": [
    "**相关性分析：**"
   ]
  },
  {
   "cell_type": "code",
   "execution_count": 83,
   "metadata": {
    "collapsed": false,
    "id": "F8B8FB993E524E0FB06E30AD12E91DE4",
    "jupyter": {},
    "notebookId": "678a51258c4b5e14d963c362",
    "scrolled": false,
    "slideshow": {
     "slide_type": "slide"
    },
    "tags": [],
    "trusted": true
   },
   "outputs": [
    {
     "data": {
      "text/plain": [
       "44"
      ]
     },
     "execution_count": null,
     "metadata": {},
     "output_type": "execute_result"
    }
   ],
   "source": [
    "len(df.columns)"
   ]
  },
  {
   "cell_type": "code",
   "execution_count": 37,
   "metadata": {
    "collapsed": false,
    "id": "ECB1C8BC0B7845E49019EC9E125B7A38",
    "jupyter": {},
    "notebookId": "678a51258c4b5e14d963c362",
    "scrolled": false,
    "slideshow": {
     "slide_type": "slide"
    },
    "tags": [],
    "trusted": true
   },
   "outputs": [],
   "source": [
    "features_cols = ['Age', 'Gender', 'Ethnicity', 'SocioeconomicStatus', 'EducationLevel',\n",
    "       'BMI', 'Smoking', 'AlcoholConsumption', 'PhysicalActivity',\n",
    "       'DietQuality', 'SleepQuality', 'FamilyHistoryDiabetes',\n",
    "       'GestationalDiabetes', 'PolycysticOvarySyndrome', 'PreviousPreDiabetes',\n",
    "       'Hypertension', 'SystolicBP', 'DiastolicBP', 'FastingBloodSugar',\n",
    "       'HbA1c', 'SerumCreatinine', 'BUNLevels', 'CholesterolTotal',\n",
    "       'CholesterolLDL', 'CholesterolHDL', 'CholesterolTriglycerides',\n",
    "       'AntihypertensiveMedications', 'Statins', 'AntidiabeticMedications',\n",
    "       'FrequentUrination', 'ExcessiveThirst', 'UnexplainedWeightLoss',\n",
    "       'FatigueLevels', 'BlurredVision', 'SlowHealingSores',\n",
    "       'TinglingHandsFeet', 'QualityOfLifeScore', 'HeavyMetalsExposure',\n",
    "       'OccupationalExposureChemicals', 'WaterQuality',\n",
    "       'MedicalCheckupsFrequency', 'MedicationAdherence', 'HealthLiteracy']"
   ]
  },
  {
   "cell_type": "code",
   "execution_count": 45,
   "metadata": {
    "collapsed": false,
    "id": "C1D2AF89F41B43B0934F13BF2A7DD4BD",
    "jupyter": {},
    "notebookId": "678a51258c4b5e14d963c362",
    "scrolled": false,
    "slideshow": {
     "slide_type": "slide"
    },
    "tags": [],
    "trusted": true
   },
   "outputs": [],
   "source": [
    "# 计算相关性矩阵\n",
    "corr_matrix = df[features_cols].corr()"
   ]
  },
  {
   "cell_type": "code",
   "execution_count": 49,
   "metadata": {
    "collapsed": false,
    "id": "AF53D1101AE64118BB0C953D39BADB8F",
    "jupyter": {},
    "notebookId": "678a51258c4b5e14d963c362",
    "scrolled": false,
    "slideshow": {
     "slide_type": "slide"
    },
    "tags": [],
    "trusted": true
   },
   "outputs": [
    {
     "data": {
      "text/html": [
       "<img src=\"https://cdn.kesci.com/upload/rt/AF53D1101AE64118BB0C953D39BADB8F/sq8i0gulfh.png\">"
      ],
      "text/plain": [
       "<Figure size 1440x1080 with 2 Axes>"
      ]
     },
     "metadata": {
      "needs_background": "light"
     },
     "output_type": "display_data"
    }
   ],
   "source": [
    "# 绘制heatmap\n",
    "plt.figure(figsize=(20, 15))  # 可以根据需要调整图形大小\n",
    "sns.heatmap(corr_matrix, annot=True, cmap='coolwarm', fmt='.2f', square=True)\n",
    "\n",
    "# 设置标题\n",
    "plt.title('Correlation Heatmap')\n",
    "\n",
    "# 显示图形\n",
    "plt.show()"
   ]
  },
  {
   "cell_type": "markdown",
   "metadata": {
    "id": "38DF803E7DED4B38B19908B29A2C69D9",
    "jupyter": {},
    "notebookId": "678a51258c4b5e14d963c362",
    "runtime": {
     "execution_status": null,
     "is_visible": false,
     "status": "default"
    },
    "scrolled": false,
    "slideshow": {
     "slide_type": "slide"
    },
    "tags": []
   },
   "source": [
    "# 模型创建"
   ]
  },
  {
   "cell_type": "markdown",
   "metadata": {
    "id": "5CFA6C43561E4C27A14D9670F30AD792",
    "jupyter": {},
    "notebookId": "678a51258c4b5e14d963c362",
    "runtime": {
     "execution_status": null,
     "is_visible": false,
     "status": "default"
    },
    "scrolled": false,
    "slideshow": {
     "slide_type": "slide"
    },
    "tags": []
   },
   "source": [
    "## 数据集分割"
   ]
  },
  {
   "cell_type": "code",
   "execution_count": 63,
   "metadata": {
    "collapsed": false,
    "id": "CEBBE332488F47179867888185FD0D7A",
    "jupyter": {},
    "notebookId": "678a51258c4b5e14d963c362",
    "scrolled": false,
    "slideshow": {
     "slide_type": "slide"
    },
    "tags": [],
    "trusted": true
   },
   "outputs": [],
   "source": [
    "train_data, test_data = train_test_split(df, test_size=0.3, random_state=42)"
   ]
  },
  {
   "cell_type": "markdown",
   "metadata": {
    "id": "323C4AFF0B49482FB4BEABA556B0F2AF",
    "jupyter": {},
    "notebookId": "678a51258c4b5e14d963c362",
    "runtime": {
     "execution_status": null,
     "is_visible": false,
     "status": "default"
    },
    "scrolled": false,
    "slideshow": {
     "slide_type": "slide"
    },
    "tags": []
   },
   "source": [
    "## 逻辑回归模型"
   ]
  },
  {
   "cell_type": "markdown",
   "metadata": {
    "id": "6F4CB7D0CC104C79A13B5158466A4345",
    "jupyter": {},
    "notebookId": "678a51258c4b5e14d963c362",
    "runtime": {
     "execution_status": null,
     "is_visible": false,
     "status": "default"
    },
    "scrolled": false,
    "slideshow": {
     "slide_type": "slide"
    },
    "tags": []
   },
   "source": [
    "首先使用逻辑回归模型来进行建模："
   ]
  },
  {
   "cell_type": "code",
   "execution_count": 67,
   "metadata": {
    "collapsed": false,
    "id": "E90DC5C8F0E04F979E8F21EEFD41792F",
    "jupyter": {},
    "notebookId": "678a51258c4b5e14d963c362",
    "scrolled": false,
    "slideshow": {
     "slide_type": "slide"
    },
    "tags": [],
    "trusted": true
   },
   "outputs": [
    {
     "data": {
      "text/plain": [
       "GridSearchCV(cv=5, error_score='raise-deprecating',\n",
       "             estimator=LogisticRegression(C=1.0, class_weight=None, dual=False,\n",
       "                                          fit_intercept=True,\n",
       "                                          intercept_scaling=1, l1_ratio=None,\n",
       "                                          max_iter=1000, multi_class='warn',\n",
       "                                          n_jobs=None, penalty='l2',\n",
       "                                          random_state=None, solver='warn',\n",
       "                                          tol=0.0001, verbose=0,\n",
       "                                          warm_start=False),\n",
       "             iid='warn', n_jobs=None,\n",
       "             param_grid={'C': [0.001, 0.01, 0.1, 1, 10, 100],\n",
       "                         'penalty': ['l1', 'l2']},\n",
       "             pre_dispatch='2*n_jobs', refit=True, return_train_score=False,\n",
       "             scoring='accuracy', verbose=0)"
      ]
     },
     "execution_count": null,
     "metadata": {},
     "output_type": "execute_result"
    }
   ],
   "source": [
    "# 分离特征和目标变量\n",
    "X = train_data.drop('Diagnosis', axis=1)\n",
    "y = train_data['Diagnosis']\n",
    "\n",
    "# 数据标准化\n",
    "scaler = StandardScaler()\n",
    "X_scaled = scaler.fit_transform(X)\n",
    "\n",
    "# 创建逻辑回归模型实例\n",
    "logreg = LogisticRegression(max_iter=1000)\n",
    "\n",
    "# 设置要搜索的参数网格\n",
    "param_grid = {\n",
    "    'C': [0.001, 0.01, 0.1, 1, 10, 100],  # 正则化强度的倒数\n",
    "    'penalty': ['l1', 'l2']  # 正则化类型\n",
    "}\n",
    "\n",
    "# 创建GridSearchCV对象，设置交叉验证折数为5\n",
    "grid_search = GridSearchCV(logreg, param_grid, cv=5, scoring='accuracy')\n",
    "\n",
    "# 在训练数据上进行网格搜索\n",
    "grid_search.fit(X_scaled, y)"
   ]
  },
  {
   "cell_type": "code",
   "execution_count": 68,
   "metadata": {
    "collapsed": false,
    "id": "0175C64D2EB040819B552E33000D8FFE",
    "jupyter": {},
    "notebookId": "678a51258c4b5e14d963c362",
    "scrolled": false,
    "slideshow": {
     "slide_type": "slide"
    },
    "tags": [],
    "trusted": true
   },
   "outputs": [
    {
     "name": "stdout",
     "output_type": "stream",
     "text": [
      "最佳参数组合： {'C': 0.1, 'penalty': 'l1'}\n",
      "最佳模型准确率： 0.8334600760456273\n"
     ]
    }
   ],
   "source": [
    "# 输出最佳参数组合\n",
    "print(\"最佳参数组合：\", grid_search.best_params_)\n",
    "\n",
    "# 输出最佳模型的准确率\n",
    "print(\"最佳模型准确率：\", grid_search.best_score_)\n",
    "\n",
    "# 使用最佳参数组合训练模型\n",
    "best_model = grid_search.best_estimator_"
   ]
  },
  {
   "cell_type": "markdown",
   "metadata": {
    "id": "6FBE40D5FF0C42FEA782E4546BC6E051",
    "jupyter": {},
    "notebookId": "678a51258c4b5e14d963c362",
    "runtime": {
     "execution_status": null,
     "is_visible": false,
     "status": "default"
    },
    "scrolled": false,
    "slideshow": {
     "slide_type": "slide"
    },
    "tags": []
   },
   "source": [
    "查看混淆矩阵："
   ]
  },
  {
   "cell_type": "code",
   "execution_count": 71,
   "metadata": {
    "collapsed": false,
    "id": "304A9A3748A741E586BC8C457013796A",
    "jupyter": {},
    "notebookId": "678a51258c4b5e14d963c362",
    "scrolled": false,
    "slideshow": {
     "slide_type": "slide"
    },
    "tags": [],
    "trusted": true
   },
   "outputs": [
    {
     "name": "stdout",
     "output_type": "stream",
     "text": [
      "混淆矩阵：\n",
      "[[682  98]\n",
      " [108 427]]\n"
     ]
    }
   ],
   "source": [
    "# 预测训练数据\n",
    "y_pred = best_model.predict(X_scaled)\n",
    "y_pred_proba = best_model.predict_proba(X_scaled)[:, 1]\n",
    "\n",
    "# 输出混淆矩阵\n",
    "conf_matrix = confusion_matrix(y, y_pred)\n",
    "print(\"混淆矩阵：\")\n",
    "print(conf_matrix)"
   ]
  },
  {
   "cell_type": "code",
   "execution_count": 74,
   "metadata": {
    "collapsed": false,
    "id": "65E99816215D460CA778A7C987AD2D4D",
    "jupyter": {},
    "notebookId": "678a51258c4b5e14d963c362",
    "scrolled": false,
    "slideshow": {
     "slide_type": "slide"
    },
    "tags": [],
    "trusted": true
   },
   "outputs": [
    {
     "name": "stdout",
     "output_type": "stream",
     "text": [
      "分类报告：\n",
      "              precision    recall  f1-score   support\n",
      "\n",
      "           0       0.86      0.87      0.87       780\n",
      "           1       0.81      0.80      0.81       535\n",
      "\n",
      "    accuracy                           0.84      1315\n",
      "   macro avg       0.84      0.84      0.84      1315\n",
      "weighted avg       0.84      0.84      0.84      1315\n",
      "\n"
     ]
    }
   ],
   "source": [
    "# 输出分类报告\n",
    "class_report = classification_report(y, y_pred)\n",
    "print(\"分类报告：\")\n",
    "print(class_report)"
   ]
  },
  {
   "cell_type": "code",
   "execution_count": 72,
   "metadata": {
    "collapsed": false,
    "id": "B101A121117D489992D8126F716A2DB4",
    "jupyter": {},
    "notebookId": "678a51258c4b5e14d963c362",
    "scrolled": false,
    "slideshow": {
     "slide_type": "slide"
    },
    "tags": [],
    "trusted": true
   },
   "outputs": [
    {
     "data": {
      "text/html": [
       "<img src=\"https://cdn.kesci.com/upload/rt/B101A121117D489992D8126F716A2DB4/sq8jigces.png\">"
      ],
      "text/plain": [
       "<Figure size 432x288 with 1 Axes>"
      ]
     },
     "metadata": {
      "needs_background": "light"
     },
     "output_type": "display_data"
    }
   ],
   "source": [
    "# 绘制ROC-AUC曲线\n",
    "fpr, tpr, thresholds = roc_curve(y, y_pred_proba)\n",
    "roc_auc = auc(fpr, tpr)\n",
    "\n",
    "plt.figure()\n",
    "plt.plot(fpr, tpr, color='darkorange', lw=2, label='ROC curve (area = %0.2f)' % roc_auc)\n",
    "plt.plot([0, 1], [0, 1], color='navy', lw=2, linestyle='--')\n",
    "plt.xlim([0.0, 1.0])\n",
    "plt.ylim([0.0, 1.05])\n",
    "plt.xlabel('False Positive Rate')\n",
    "plt.ylabel('True Positive Rate')\n",
    "plt.title('Receiver Operating Characteristic')\n",
    "plt.legend(loc=\"lower right\")\n",
    "plt.show()"
   ]
  },
  {
   "cell_type": "code",
   "execution_count": 79,
   "metadata": {
    "collapsed": false,
    "id": "FFA1DA919F934B4CB74ACB0D215AEC8A",
    "jupyter": {},
    "notebookId": "678a51258c4b5e14d963c362",
    "scrolled": false,
    "slideshow": {
     "slide_type": "slide"
    },
    "tags": [],
    "trusted": true
   },
   "outputs": [
    {
     "data": {
      "text/plain": [
       "LogisticRegression(C=0.1, class_weight=None, dual=False, fit_intercept=True,\n",
       "                   intercept_scaling=1, l1_ratio=None, max_iter=1000,\n",
       "                   multi_class='warn', n_jobs=None, penalty='l1',\n",
       "                   random_state=None, solver='warn', tol=0.0001, verbose=0,\n",
       "                   warm_start=False)"
      ]
     },
     "execution_count": null,
     "metadata": {},
     "output_type": "execute_result"
    }
   ],
   "source": [
    "best_model"
   ]
  },
  {
   "cell_type": "code",
   "execution_count": 80,
   "metadata": {
    "collapsed": false,
    "id": "CDC2A84FEFAE4FD29434223C4C292A88",
    "jupyter": {},
    "notebookId": "678a51258c4b5e14d963c362",
    "scrolled": false,
    "slideshow": {
     "slide_type": "slide"
    },
    "tags": [],
    "trusted": true
   },
   "outputs": [
    {
     "name": "stdout",
     "output_type": "stream",
     "text": [
      "Selected features: Index(['Hypertension', 'FastingBloodSugar', 'HbA1c', 'FrequentUrination',\n",
      "       'ExcessiveThirst', 'UnexplainedWeightLoss', 'BlurredVision'],\n",
      "      dtype='object')\n"
     ]
    }
   ],
   "source": [
    "from sklearn.feature_selection import SelectFromModel\n",
    "from sklearn.linear_model import LogisticRegression\n",
    "\n",
    "# 训练逻辑回归模型\n",
    "logreg = LogisticRegression(penalty=\"l1\", C=0.1)\n",
    "logreg.fit(X_scaled, y)\n",
    "\n",
    "# 使用SelectFromModel进行特征选择\n",
    "sfm = SelectFromModel(logreg, threshold='mean')  # 可以根据需要调整threshold参数\n",
    "X_selected = sfm.fit_transform(X_scaled, y)\n",
    "\n",
    "# 输出被选择的特征\n",
    "selected_features = X.columns[sfm.get_support()]\n",
    "print(\"Selected features:\", selected_features)"
   ]
  },
  {
   "cell_type": "markdown",
   "metadata": {
    "id": "1FE8894B6BAC43C397F616F047B342AC",
    "jupyter": {},
    "notebookId": "678a51258c4b5e14d963c362",
    "runtime": {
     "execution_status": null,
     "is_visible": false,
     "status": "default"
    },
    "scrolled": false,
    "slideshow": {
     "slide_type": "slide"
    },
    "tags": []
   },
   "source": [
    "## 选择出来的模型"
   ]
  },
  {
   "cell_type": "code",
   "execution_count": 81,
   "metadata": {
    "collapsed": false,
    "id": "96C2080C3428448A92198D47D25883DE",
    "jupyter": {},
    "notebookId": "678a51258c4b5e14d963c362",
    "scrolled": false,
    "slideshow": {
     "slide_type": "slide"
    },
    "tags": [],
    "trusted": true
   },
   "outputs": [
    {
     "name": "stdout",
     "output_type": "stream",
     "text": [
      "Selected features: Index(['Hypertension', 'FastingBloodSugar', 'HbA1c', 'FrequentUrination',\n",
      "       'ExcessiveThirst', 'UnexplainedWeightLoss', 'BlurredVision'],\n",
      "      dtype='object')\n",
      "混淆矩阵：\n",
      "[[686  94]\n",
      " [119 416]]\n",
      "分类报告：\n",
      "              precision    recall  f1-score   support\n",
      "\n",
      "           0       0.85      0.88      0.87       780\n",
      "           1       0.82      0.78      0.80       535\n",
      "\n",
      "    accuracy                           0.84      1315\n",
      "   macro avg       0.83      0.83      0.83      1315\n",
      "weighted avg       0.84      0.84      0.84      1315\n",
      "\n"
     ]
    },
    {
     "data": {
      "text/html": [
       "<img src=\"https://cdn.kesci.com/upload/rt/96C2080C3428448A92198D47D25883DE/sq8k4thb03.png\">"
      ],
      "text/plain": [
       "<Figure size 432x288 with 1 Axes>"
      ]
     },
     "metadata": {
      "needs_background": "light"
     },
     "output_type": "display_data"
    }
   ],
   "source": [
    "import pandas as pd\n",
    "from sklearn.model_selection import GridSearchCV\n",
    "from sklearn.linear_model import LogisticRegression\n",
    "from sklearn.preprocessing import StandardScaler\n",
    "from sklearn.metrics import confusion_matrix, roc_curve, auc, classification_report\n",
    "from sklearn.feature_selection import SelectFromModel\n",
    "import matplotlib.pyplot as plt\n",
    "import warnings\n",
    "\n",
    "# 忽略FutureWarning\n",
    "warnings.filterwarnings(\"ignore\", category=FutureWarning)\n",
    "\n",
    "# 假设train_data是一个DataFrame，其中包含特征和目标变量'Diagnosis'\n",
    "# train_data = pd.read_csv('your_train_data.csv')\n",
    "\n",
    "# 分离特征和目标变量\n",
    "X = train_data.drop('Diagnosis', axis=1)\n",
    "y = train_data['Diagnosis']\n",
    "\n",
    "# 数据标准化\n",
    "scaler = StandardScaler()\n",
    "X_scaled = scaler.fit_transform(X)\n",
    "\n",
    "# 创建逻辑回归模型实例\n",
    "logreg = LogisticRegression(penalty=\"l1\", C=0.1, max_iter=1000, solver='liblinear')\n",
    "\n",
    "# 使用SelectFromModel进行特征选择\n",
    "sfm = SelectFromModel(logreg, threshold='mean')\n",
    "X_selected = sfm.fit_transform(X_scaled, y)\n",
    "\n",
    "# 输出被选择的特征\n",
    "selected_features = X.columns[sfm.get_support()]\n",
    "print(\"Selected features:\", selected_features)\n",
    "\n",
    "# 使用被选择的特征重新训练逻辑回归模型\n",
    "logreg_selected = LogisticRegression(max_iter=1000, solver='lbfgs')\n",
    "logreg_selected.fit(X_selected, y)\n",
    "\n",
    "# 预测训练数据\n",
    "y_pred = logreg_selected.predict(X_selected)\n",
    "y_pred_proba = logreg_selected.predict_proba(X_selected)[:, 1]\n",
    "\n",
    "# 输出混淆矩阵\n",
    "conf_matrix = confusion_matrix(y, y_pred)\n",
    "print(\"混淆矩阵：\")\n",
    "print(conf_matrix)\n",
    "\n",
    "# 输出分类报告\n",
    "class_report = classification_report(y, y_pred)\n",
    "print(\"分类报告：\")\n",
    "print(class_report)\n",
    "\n",
    "# 绘制ROC-AUC曲线\n",
    "fpr, tpr, thresholds = roc_curve(y, y_pred_proba)\n",
    "roc_auc = auc(fpr, tpr)\n",
    "\n",
    "plt.figure()\n",
    "plt.plot(fpr, tpr, color='darkorange', lw=2, label='ROC curve (area = %0.2f)' % roc_auc)\n",
    "plt.plot([0, 1], [0, 1], color='navy', lw=2, linestyle='--')\n",
    "plt.xlim([0.0, 1.0])\n",
    "plt.ylim([0.0, 1.05])\n",
    "plt.xlabel('False Positive Rate')\n",
    "plt.ylabel('True Positive Rate')\n",
    "plt.title('Receiver Operating Characteristic')\n",
    "plt.legend(loc=\"lower right\")\n",
    "plt.show()"
   ]
  },
  {
   "cell_type": "code",
   "execution_count": 88,
   "metadata": {
    "collapsed": false,
    "id": "1258A2DC2C0D49B3B49E0B4B49B7809D",
    "jupyter": {},
    "notebookId": "678a51258c4b5e14d963c362",
    "scrolled": false,
    "slideshow": {
     "slide_type": "slide"
    },
    "tags": [],
    "trusted": true
   },
   "outputs": [
    {
     "name": "stdout",
     "output_type": "stream",
     "text": [
      "Selected features: Index(['Hypertension', 'FastingBloodSugar', 'HbA1c', 'FrequentUrination',\n",
      "       'ExcessiveThirst', 'UnexplainedWeightLoss', 'BlurredVision'],\n",
      "      dtype='object')\n",
      "Feature importances:\n",
      " Hypertension             0.567630\n",
      "FastingBloodSugar        1.884523\n",
      "HbA1c                    1.740358\n",
      "FrequentUrination        0.563268\n",
      "ExcessiveThirst          0.465295\n",
      "UnexplainedWeightLoss    0.274633\n",
      "BlurredVision            0.239278\n",
      "dtype: float64\n",
      "混淆矩阵：\n",
      "[[686  94]\n",
      " [119 416]]\n",
      "分类报告：\n",
      "              precision    recall  f1-score   support\n",
      "\n",
      "           0       0.85      0.88      0.87       780\n",
      "           1       0.82      0.78      0.80       535\n",
      "\n",
      "    accuracy                           0.84      1315\n",
      "   macro avg       0.83      0.83      0.83      1315\n",
      "weighted avg       0.84      0.84      0.84      1315\n",
      "\n"
     ]
    },
    {
     "data": {
      "text/html": [
       "<img src=\"https://cdn.kesci.com/upload/rt/1258A2DC2C0D49B3B49E0B4B49B7809D/sq8kbwe8zu.png\">"
      ],
      "text/plain": [
       "<Figure size 432x288 with 1 Axes>"
      ]
     },
     "metadata": {
      "needs_background": "light"
     },
     "output_type": "display_data"
    }
   ],
   "source": [
    "import pandas as pd\n",
    "from sklearn.model_selection import GridSearchCV\n",
    "from sklearn.linear_model import LogisticRegression\n",
    "from sklearn.preprocessing import StandardScaler\n",
    "from sklearn.metrics import confusion_matrix, roc_curve, auc, classification_report\n",
    "from sklearn.feature_selection import SelectFromModel\n",
    "import matplotlib.pyplot as plt\n",
    "import warnings\n",
    "import numpy as np\n",
    "\n",
    "# 忽略FutureWarning\n",
    "warnings.filterwarnings(\"ignore\", category=FutureWarning)\n",
    "\n",
    "# 假设train_data是一个DataFrame，其中包含特征和目标变量'Diagnosis'\n",
    "# train_data = pd.read_csv('your_train_data.csv')\n",
    "\n",
    "# 分离特征和目标变量\n",
    "X = train_data.drop('Diagnosis', axis=1)\n",
    "y = train_data['Diagnosis']\n",
    "\n",
    "# 数据标准化\n",
    "scaler = StandardScaler()\n",
    "X_scaled = scaler.fit_transform(X)\n",
    "\n",
    "# 创建逻辑回归模型实例\n",
    "logreg = LogisticRegression(penalty=\"l1\", C=0.1, max_iter=1000, solver='liblinear')\n",
    "\n",
    "# 使用SelectFromModel进行特征选择\n",
    "sfm = SelectFromModel(logreg, threshold='mean')\n",
    "X_selected = sfm.fit_transform(X_scaled, y)\n",
    "\n",
    "# 输出被选择的特征\n",
    "selected_features = X.columns[sfm.get_support()]\n",
    "print(\"Selected features:\", selected_features)\n",
    "\n",
    "# 使用被选择的特征重新训练逻辑回归模型\n",
    "logreg_selected = LogisticRegression(max_iter=1000, solver='lbfgs')\n",
    "logreg_selected.fit(X_selected, y)\n",
    "\n",
    "# 输出被选择的特征及其重要性\n",
    "feature_importances = pd.Series(logreg_selected.coef_[0], index=selected_features)\n",
    "print(\"Feature importances:\\n\", feature_importances)\n",
    "\n",
    "# 预测训练数据\n",
    "y_pred = logreg_selected.predict(X_selected)\n",
    "y_pred_proba = logreg_selected.predict_proba(X_selected)[:, 1]\n",
    "\n",
    "# 输出混淆矩阵\n",
    "conf_matrix = confusion_matrix(y, y_pred)\n",
    "print(\"混淆矩阵：\")\n",
    "print(conf_matrix)\n",
    "\n",
    "# 输出分类报告\n",
    "class_report = classification_report(y, y_pred)\n",
    "print(\"分类报告：\")\n",
    "print(class_report)\n",
    "\n",
    "# 绘制ROC-AUC曲线\n",
    "fpr, tpr, thresholds = roc_curve(y, y_pred_proba)\n",
    "roc_auc = auc(fpr, tpr)\n",
    "\n",
    "plt.figure()\n",
    "plt.plot(fpr, tpr, color='darkorange', lw=2, label='ROC curve (area = %0.2f)' % roc_auc)\n",
    "plt.plot([0, 1], [0, 1], color='navy', lw=2, linestyle='--')\n",
    "plt.xlim([0.0, 1.0])\n",
    "plt.ylim([0.0, 1.05])\n",
    "plt.xlabel('False Positive Rate')\n",
    "plt.ylabel('True Positive Rate')\n",
    "plt.title('Receiver Operating Characteristic')\n",
    "plt.legend(loc=\"lower right\")\n",
    "plt.show()"
   ]
  },
  {
   "cell_type": "markdown",
   "metadata": {
    "id": "09C654F3CCA741DA94953A8658320A19",
    "jupyter": {},
    "notebookId": "678a51258c4b5e14d963c362",
    "runtime": {
     "execution_status": null,
     "is_visible": false,
     "status": "default"
    },
    "scrolled": false,
    "slideshow": {
     "slide_type": "slide"
    },
    "tags": []
   },
   "source": [
    "## 树模型 - 决策树"
   ]
  },
  {
   "cell_type": "markdown",
   "metadata": {
    "id": "F48141354C28426C9428DF1C35D18C19",
    "jupyter": {},
    "notebookId": "678a51258c4b5e14d963c362",
    "runtime": {
     "execution_status": null,
     "is_visible": false,
     "status": "default"
    },
    "scrolled": false,
    "slideshow": {
     "slide_type": "slide"
    },
    "tags": []
   },
   "source": [
    "## 树模型 - 随机森林"
   ]
  }
 ],
 "metadata": {
  "kernelspec": {
   "display_name": "Python 3",
   "language": "python",
   "name": "python3"
  },
  "language_info": {
   "codemirror_mode": {
    "name": "ipython",
    "version": 3
   },
   "file_extension": ".py",
   "mimetype": "text/x-python",
   "name": "python",
   "nbconvert_exporter": "python",
   "pygments_lexer": "ipython3",
   "version": "3.5.2"
  }
 },
 "nbformat": 4,
 "nbformat_minor": 0
}
